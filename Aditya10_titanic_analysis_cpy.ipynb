{
  "nbformat": 4,
  "nbformat_minor": 0,
  "metadata": {
    "colab": {
      "provenance": [],
      "authorship_tag": "ABX9TyM6J/vEPIYAc5Sd3JAKDSAG",
      "include_colab_link": true
    },
    "kernelspec": {
      "name": "python3",
      "display_name": "Python 3"
    },
    "language_info": {
      "name": "python"
    }
  },
  "cells": [
    {
      "cell_type": "markdown",
      "metadata": {
        "id": "view-in-github",
        "colab_type": "text"
      },
      "source": [
        "<a href=\"https://colab.research.google.com/github/haki-user/Data_Science/blob/Titanic_dataset_pca/Aditya10_titanic_analysis_cpy.ipynb\" target=\"_parent\"><img src=\"https://colab.research.google.com/assets/colab-badge.svg\" alt=\"Open In Colab\"/></a>"
      ]
    },
    {
      "cell_type": "code",
      "source": [
        "#import libraries\n",
        "import pandas as pd\n",
        "import numpy as np\n",
        "import matplotlib\n",
        "import matplotlib.pyplot as plt\n",
        "%matplotlib inline\n",
        "import seaborn as sns"
      ],
      "metadata": {
        "id": "1wo-2TmcCK2M"
      },
      "execution_count": 10,
      "outputs": []
    },
    {
      "cell_type": "code",
      "source": [
        "#connect gdrive\n",
        "from google.colab import drive\n",
        "drive.mount('/content/gdrive')"
      ],
      "metadata": {
        "colab": {
          "base_uri": "https://localhost:8080/"
        },
        "id": "oP-Q7Q0oCMgQ",
        "outputId": "b7d30ae0-f15b-4bea-c57d-add9d4dd07ea"
      },
      "execution_count": 14,
      "outputs": [
        {
          "output_type": "stream",
          "name": "stdout",
          "text": [
            "Mounted at /content/gdrive\n"
          ]
        }
      ]
    },
    {
      "cell_type": "code",
      "source": [
        "#import data into colab\n",
        "test = pd.read_csv('/content/gdrive/My Drive/test.csv')\n",
        "train = pd.read_csv('/content/gdrive/My Drive/train.csv')\n",
        "#upload locally:-\n",
        "# from google.colab import files\n",
        "# uploaded = files.upload()\n",
        "#pd.read_csv(\"sample.csv\")"
      ],
      "metadata": {
        "id": "oC8H_DfKDzgc"
      },
      "execution_count": 51,
      "outputs": []
    },
    {
      "cell_type": "code",
      "source": [
        "#fill null values with mode\n",
        "for column in train.columns:\n",
        "    train[column].fillna(train[column].mode()[0], inplace=True)\n",
        "for column in test.columns:\n",
        "    test[column].fillna(test[column].mode()[0], inplace=True)"
      ],
      "metadata": {
        "id": "AFYWZydDEgkD"
      },
      "execution_count": 52,
      "outputs": []
    },
    {
      "cell_type": "code",
      "source": [
        "#graphical representation\n",
        "sns.distplot(train.Survived)"
      ],
      "metadata": {
        "colab": {
          "base_uri": "https://localhost:8080/",
          "height": 293
        },
        "id": "HkrTIwgQGOOi",
        "outputId": "2e65dc2d-57da-4a36-b429-950c71288b54"
      },
      "execution_count": 53,
      "outputs": [
        {
          "output_type": "execute_result",
          "data": {
            "text/plain": [
              "<matplotlib.axes._subplots.AxesSubplot at 0x7f998b0f9390>"
            ]
          },
          "metadata": {},
          "execution_count": 53
        },
        {
          "output_type": "display_data",
          "data": {
            "text/plain": [
              "<Figure size 432x288 with 1 Axes>"
            ],
            "image/png": "[encoded data removed]"
          },
          "metadata": {
            "needs_background": "light"
          }
        }
      ]
    },
    {
      "cell_type": "code",
      "source": [
        "#process data\n",
        "from sklearn import preprocessing\n",
        "from sklearn.preprocessing import OrdinalEncoder\n",
        "enc = OrdinalEncoder()\n",
        "\n",
        "train.Sex = enc.fit_transform(train.Sex.values.reshape(-1,1))\n",
        "train.Age=train.Age.astype(int)\n",
        "train.Age = enc.fit_transform(train.Age.values.reshape(-1,1))\n",
        "train.Ticket = enc.fit_transform(train.Ticket.values.reshape(-1,1))\n",
        "train.Cabin = enc.fit_transform(train.Cabin.values.reshape(-1,1))\n",
        "train.Fare=train.Fare.astype(int)\n",
        "train.Fare = enc.fit_transform(train.Fare.values.reshape(-1,1))\n",
        "train.Embarked = enc.fit_transform(train.Embarked.values.reshape(-1,1))\n",
        "\n",
        "test.Age = enc.fit_transform(test.Age.values.reshape(-1,1))\n",
        "test.Ticket = enc.fit_transform(test.Ticket.values.reshape(-1,1))\n",
        "test.Cabin = enc.fit_transform(test.Cabin.values.reshape(-1,1))\n",
        "test.Fare=test.Fare.astype(int)\n",
        "test.Fare = enc.fit_transform(test.Fare.values.reshape(-1,1))\n",
        "test.Embarked = enc.fit_transform(test.Embarked.values.reshape(-1,1))\n"
      ],
      "metadata": {
        "id": "DAIJ2YBtGzJ0"
      },
      "execution_count": 54,
      "outputs": []
    },
    {
      "cell_type": "code",
      "source": [
        "#setup X, y and X_test values\n",
        "y = train.Survived\n",
        "X = train.drop(['PassengerId', 'Survived', 'Name', 'Cabin', 'Ticket'], axis=1)\n",
        "X_test = test.drop(['PassengerId', 'Name', 'Cabin', 'Ticket'], axis=1)\n",
        "X.shape, y.shape,X_test.shape"
      ],
      "metadata": {
        "colab": {
          "base_uri": "https://localhost:8080/"
        },
        "id": "wtZKupbdIRZ_",
        "outputId": "538dcf4d-70a0-44a8-be3a-ad9e8871c328"
      },
      "execution_count": 55,
      "outputs": [
        {
          "output_type": "execute_result",
          "data": {
            "text/plain": [
              "((891, 7), (891,), (418, 7))"
            ]
          },
          "metadata": {},
          "execution_count": 55
        }
      ]
    },
    {
      "cell_type": "code",
      "source": [
        "#split train set for testing\n",
        "from sklearn.model_selection import train_test_split\n",
        "\n",
        "X_train, X_val, y_train, y_val = train_test_split(X, y, test_size=0.10, random_state=1, stratify=y, shuffle=True)\n",
        "X_train.shape, X_val.shape, y_train.shape, y_val.shape, X_test.shape"
      ],
      "metadata": {
        "colab": {
          "base_uri": "https://localhost:8080/"
        },
        "id": "4wUieLJaIfcj",
        "outputId": "69453f75-c91e-4c2b-cbe9-0f49bf0c46b9"
      },
      "execution_count": 56,
      "outputs": [
        {
          "output_type": "execute_result",
          "data": {
            "text/plain": [
              "((801, 7), (90, 7), (801,), (90,), (418, 7))"
            ]
          },
          "metadata": {},
          "execution_count": 56
        }
      ]
    },
    {
      "cell_type": "code",
      "source": [
        "#scalar\n",
        "# Import `StandardScaler` from `sklearn.preprocessing`\n",
        "from sklearn.preprocessing import StandardScaler\n",
        "\n",
        "# Define the scaler \n",
        "scaler = StandardScaler().fit(X_train)\n",
        "# Scale the train set\n",
        "X_train = scaler.transform(X_train)\n",
        "# Scale the validation set\n",
        "X_val = scaler.transform(X_val)\n",
        "# Scale the test set\n",
        "X_test = scaler.transform(X_test)"
      ],
      "metadata": {
        "id": "ThX7CgJDIsBD"
      },
      "execution_count": 58,
      "outputs": []
    },
    {
      "cell_type": "code",
      "source": [
        "#class weights\n",
        "from sklearn.utils import compute_class_weight\n",
        "# class_weights = dict(zip(np.unique(y_train), class_weight.compute_class_weight('balanced',np.unique(y_train), y_train))) \n",
        "class_weights = compute_class_weight(\n",
        "                                        class_weight = \"balanced\",\n",
        "                                        classes = np.unique(y_train),\n",
        "                                        y = y_train                                                  \n",
        "                                    )\n",
        "class_weights = dict(zip(np.unique(y_train), class_weights))\n",
        "class_weights"
      ],
      "metadata": {
        "colab": {
          "base_uri": "https://localhost:8080/"
        },
        "id": "9Biat7lbItFj",
        "outputId": "91620a0f-58e2-44f2-e472-a8b3633adeb3"
      },
      "execution_count": 62,
      "outputs": [
        {
          "output_type": "execute_result",
          "data": {
            "text/plain": [
              "{0: 0.8107287449392713, 1: 1.3045602605863191}"
            ]
          },
          "metadata": {},
          "execution_count": 62
        }
      ]
    },
    {
      "cell_type": "code",
      "source": [
        "#apply pca\n",
        "from sklearn.decomposition import PCA\n",
        "\n",
        "pca = PCA(n_components=6)\n",
        "\n",
        "X_train = pca.fit_transform(X_train)\n",
        "X_val = pca.transform(X_val)\n",
        "X_test = pca.transform(X_test)"
      ],
      "metadata": {
        "id": "WAgSRmrUPJE_"
      },
      "execution_count": 63,
      "outputs": []
    }
  ]
}